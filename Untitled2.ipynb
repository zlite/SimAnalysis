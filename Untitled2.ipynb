{
 "cells": [
  {
   "cell_type": "code",
   "execution_count": 5,
   "metadata": {},
   "outputs": [],
   "source": [
    "from bokeh.models import Button\n",
    "from bokeh.io import curdoc\n",
    "\n",
    "bt = Button(label='Click me')\n",
    "\n",
    "def change_click():\n",
    "    print('I was clicked')\n",
    "    \n",
    "\n",
    "bt.on_click(change_click)\n",
    "\n",
    "curdoc().add_root(bt)\n",
    "show(button)"
   ]
  },
  {
   "cell_type": "code",
   "execution_count": 3,
   "metadata": {},
   "outputs": [],
   "source": [
    "from bokeh.io import output_file, show\n",
    "from bokeh.models import Button\n",
    "\n",
    "output_file(\"button.html\")\n",
    "\n",
    "button = Button(label=\"Foo\", button_type=\"success\")\n",
    "\n",
    "show(button)\n"
   ]
  },
  {
   "cell_type": "code",
   "execution_count": null,
   "metadata": {},
   "outputs": [],
   "source": []
  }
 ],
 "metadata": {
  "kernelspec": {
   "display_name": "Python 3",
   "language": "python",
   "name": "python3"
  },
  "language_info": {
   "codemirror_mode": {
    "name": "ipython",
    "version": 3
   },
   "file_extension": ".py",
   "mimetype": "text/x-python",
   "name": "python",
   "nbconvert_exporter": "python",
   "pygments_lexer": "ipython3",
   "version": "3.7.6"
  }
 },
 "nbformat": 4,
 "nbformat_minor": 4
}
