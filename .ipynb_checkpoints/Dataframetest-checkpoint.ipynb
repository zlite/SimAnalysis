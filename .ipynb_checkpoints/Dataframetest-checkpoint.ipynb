{
 "cells": [
  {
   "cell_type": "code",
   "execution_count": 88,
   "metadata": {},
   "outputs": [],
   "source": [
    "import pandas as pd\n",
    "import numpy as np\n",
    "import scipy\n",
    "import statistics\n",
    "from scipy import signal, fftpack\n",
    "import matplotlib.pyplot as plt\n",
    "import ipywidgets as widgets\n",
    "from ipywidgets import interact, interact_manual\n",
    "from IPython.display import display\n",
    "\n",
    "df1 = pd.read_csv(r'real.csv')\n",
    "df2 = pd.read_csv(r'sim.csv')\n"
   ]
  },
  {
   "cell_type": "code",
   "execution_count": 81,
   "metadata": {},
   "outputs": [],
   "source": [
    "invertreal=widgets.Checkbox(\n",
    "    value=False,\n",
    "    description='Invert Real Data',\n",
    "    disabled=False,\n",
    "    indent=False\n",
    ")\n",
    "invertsim=widgets.Checkbox(\n",
    "    value=False,\n",
    "    description='Invert Simulated Data',\n",
    "    disabled=False,\n",
    "    indent=False\n",
    ")\n",
    "\n",
    "\n",
    "display_button=widgets.ToggleButton(\n",
    "    value=False,\n",
    "    description='Redisplay graph',\n",
    "    disabled=False,\n",
    "    button_style='', # 'success', 'info', 'warning', 'danger' or ''\n",
    "    tooltip='Description',\n",
    ")\n"
   ]
  },
  {
   "cell_type": "code",
   "execution_count": 86,
   "metadata": {},
   "outputs": [
    {
     "data": {
      "application/vnd.jupyter.widget-view+json": {
       "model_id": "ebf4f78a0af6490796fea12841f6e081",
       "version_major": 2,
       "version_minor": 0
      },
      "text/plain": [
       "ToggleButton(value=True, description='Redisplay graph', tooltip='Description')"
      ]
     },
     "metadata": {},
     "output_type": "display_data"
    },
    {
     "data": {
      "application/vnd.jupyter.widget-view+json": {
       "model_id": "945086da453444f4a06ad5170510a155",
       "version_major": 2,
       "version_minor": 0
      },
      "text/plain": [
       "Checkbox(value=True, description='Invert Simulated Data', indent=False)"
      ]
     },
     "metadata": {},
     "output_type": "display_data"
    },
    {
     "data": {
      "application/vnd.jupyter.widget-view+json": {
       "model_id": "d062756939f4492d8d3a38034efe065a",
       "version_major": 2,
       "version_minor": 0
      },
      "text/plain": [
       "Checkbox(value=False, description='Invert Real Data', indent=False)"
      ]
     },
     "metadata": {},
     "output_type": "display_data"
    },
    {
     "name": "stdout",
     "output_type": "stream",
     "text": [
      "Invert sim\n"
     ]
    },
    {
     "data": {
      "image/png": "[encoded data removed]",
      "text/plain": [
       "<Figure size 432x288 with 1 Axes>"
      ]
     },
     "metadata": {
      "needs_background": "light"
     },
     "output_type": "display_data"
    },
    {
     "data": {
      "text/plain": [
       "<Figure size 432x288 with 0 Axes>"
      ]
     },
     "metadata": {},
     "output_type": "display_data"
    }
   ],
   "source": [
    "display(display_button)\n",
    "display(invertsim)\n",
    "display(invertreal)\n",
    "temp1 = df1.y\n",
    "temp2 = df2.y\n",
    "\n",
    "if display_button:\n",
    "    if invertsim.value:\n",
    "        print(\"Invert sim\")\n",
    "        tempy2 = -df2.y\n",
    "    else: tempy2 = df2.y\n",
    "    if invertreal.value:\n",
    "        print(\"Invert real\")\n",
    "        tempy1 = -df1.y\n",
    "    else: tempy1 = df1.y\n",
    "    if (not invertsim) and (not invertreal):\n",
    "        print(\"No change\")\n",
    "        tempy1 = df1.y\n",
    "        tempy2 = df2.y\n",
    "    if (statistics.mean(tempy1) < 0) and (statistics.mean(tempy2) > 0) : df3.y = (tempy1+tempy2)/2\n",
    "    if (statistics.mean(tempy1) < 0) and (statistics.mean(tempy2) < 0) : df3.y = (tempy1-tempy2)/2\n",
    "    if (statistics.mean(tempy1) > 0) and (statistics.mean(tempy2) < 0) : df3.y = (tempy1+tempy2)/2\n",
    "    if (statistics.mean(tempy1) > 0) and (statistics.mean(tempy2) > 0) : df3.y = (tempy1-tempy2)/2\n",
    "\n",
    "    realline = plt.plot(df1.x, tempy1, label = 'Real')\n",
    "    simline = plt.plot(df2.x, tempy2, label='Simulated')\n",
    "    diffline = plt.plot(df3.x, df3.y, label='Difference')\n",
    "    plt.legend()\n",
    "    plt.figure()\n",
    "    fig = plt.gcf()"
   ]
  },
  {
   "cell_type": "code",
   "execution_count": null,
   "metadata": {},
   "outputs": [],
   "source": []
  },
  {
   "cell_type": "code",
   "execution_count": 46,
   "metadata": {},
   "outputs": [
    {
     "data": {
      "application/vnd.jupyter.widget-view+json": {
       "model_id": "c321cbf6319a43d688b6693a83051dfd",
       "version_major": 2,
       "version_minor": 0
      },
      "text/plain": [
       "Button(description='Click Me!', style=ButtonStyle())"
      ]
     },
     "metadata": {},
     "output_type": "display_data"
    },
    {
     "data": {
      "application/vnd.jupyter.widget-view+json": {
       "model_id": "38cd36a752784d1388b781b7ba70416a",
       "version_major": 2,
       "version_minor": 0
      },
      "text/plain": [
       "Output()"
      ]
     },
     "metadata": {},
     "output_type": "display_data"
    }
   ],
   "source": [
    "def graph():\n",
    "    out = widgets.Output(layout={'border': '1px solid black'})\n",
    "    with out:\n",
    "        global tempy1,tempy2    \n",
    "        if invertsim.value:\n",
    "            print(\"Invert sim\")\n",
    "            tempy2 = -df2.y\n",
    "        elif invertreal.value:\n",
    "            print(\"Invert real\")\n",
    "            tempy1 = -df1.y\n",
    "        else:\n",
    "            print(\"No change\")\n",
    "            tempy1 = df1.y\n",
    "            tempy2 = df2.y\n",
    "        realline = plt.plot(df1.x, tempy1, label = 'Real')\n",
    "        simline = plt.plot(df2.x, tempy2, label='Simulated')\n",
    "        diffline = plt.plot(df3.x, df3.y, label='Difference')\n",
    "        plt.legend()\n",
    "        plt.figure()\n",
    "\n",
    "\n",
    "\n",
    "from IPython.display import display\n",
    "button = widgets.Button(description=\"Click Me!\")\n",
    "output = widgets.Output()\n",
    "\n",
    "display(button, output)\n",
    "\n",
    "def on_button_clicked(b):\n",
    "    graph()\n",
    "\n",
    "button.on_click(on_button_clicked)"
   ]
  },
  {
   "cell_type": "code",
   "execution_count": null,
   "metadata": {},
   "outputs": [],
   "source": []
  },
  {
   "cell_type": "code",
   "execution_count": 58,
   "metadata": {},
   "outputs": [
    {
     "name": "stdout",
     "output_type": "stream",
     "text": [
      "-1\n"
     ]
    },
    {
     "data": {
      "image/png": "[encoded data removed]",
      "text/plain": [
       "<Figure size 432x288 with 1 Axes>"
      ]
     },
     "metadata": {
      "needs_background": "light"
     },
     "output_type": "display_data"
    }
   ],
   "source": [
    "shft01 = np.argmax(signal.correlate(df1.y, -df2.y)) - len(df2.y)\n",
    "print (shft01)\n",
    "plt.figure()\n",
    "realline = plt.plot(df1.x, df1.y, label = 'Real')\n",
    "simline = plt.plot(df2.x.shift(-shft01), -df2.y, label='Simulated')\n",
    "plt.legend()\n",
    "fig = plt.gcf()"
   ]
  },
  {
   "cell_type": "code",
   "execution_count": 16,
   "metadata": {},
   "outputs": [
    {
     "name": "stdout",
     "output_type": "stream",
     "text": [
      "[  -7.73062897  -15.6687416   -23.84531738 ... -666.98794262 -443.83174901\n",
      " -221.5023396 ]\n",
      "16088355.91727781\n",
      "999\n"
     ]
    }
   ],
   "source": [
    "xcor = np.correlate(df1.y, -df2.y, \"full\")\n",
    "print (xcor)\n",
    "nR = max(xcor)\n",
    "maxLag = np.argmax(xcor)  # I imported numpy as np here\n",
    "print (nR)\n",
    "print(maxLag)"
   ]
  },
  {
   "cell_type": "code",
   "execution_count": null,
   "metadata": {},
   "outputs": [],
   "source": []
  },
  {
   "cell_type": "code",
   "execution_count": 17,
   "metadata": {
    "scrolled": true
   },
   "outputs": [
    {
     "name": "stderr",
     "output_type": "stream",
     "text": [
      "No handles with labels found to put in legend.\n"
     ]
    },
    {
     "name": "stdout",
     "output_type": "stream",
     "text": [
      "688.0\n",
      "673.0\n"
     ]
    },
    {
     "data": {
      "text/plain": [
       "<matplotlib.legend.Legend at 0x11b3883df88>"
      ]
     },
     "execution_count": 17,
     "metadata": {},
     "output_type": "execute_result"
    },
    {
     "data": {
      "image/png": "[encoded data removed]",
      "text/plain": [
       "<Figure size 432x288 with 1 Axes>"
      ]
     },
     "metadata": {
      "needs_background": "light"
     },
     "output_type": "display_data"
    }
   ],
   "source": [
    "plt.plot(df1.x, df1.y)\n",
    "for target in [df2, df3]:\n",
    "    dx = np.mean(np.diff(df1.x.values))\n",
    "    shift = (np.argmax(signal.correlate(df1.y, target.y)) - (len(target.y)-1)) * dx\n",
    "    print(shift)\n",
    "    plt.plot(target.x + shift, target.y)\n",
    "plt.legend()"
   ]
  },
  {
   "cell_type": "code",
   "execution_count": 18,
   "metadata": {
    "scrolled": true
   },
   "outputs": [
    {
     "name": "stdout",
     "output_type": "stream",
     "text": [
      "-1\n"
     ]
    },
    {
     "data": {
      "image/png": "[encoded data removed]",
      "text/plain": [
       "<Figure size 432x288 with 1 Axes>"
      ]
     },
     "metadata": {
      "needs_background": "light"
     },
     "output_type": "display_data"
    }
   ],
   "source": [
    "shft01 = np.argmax(signal.correlate(df1.y, -df2.y)) - len(df1.y)\n",
    "print (shft01)\n",
    "plt.figure()\n",
    "plt.plot(df1.y, df2.y)\n",
    "fig = plt.gcf()"
   ]
  },
  {
   "cell_type": "code",
   "execution_count": 19,
   "metadata": {},
   "outputs": [
    {
     "data": {
      "image/png": "[encoded data removed]",
      "text/plain": [
       "<Figure size 432x288 with 1 Axes>"
      ]
     },
     "metadata": {
      "needs_background": "light"
     },
     "output_type": "display_data"
    }
   ],
   "source": [
    "plt.figure()\n",
    "plt.plot(df1, df2,\n",
    "         df1.shift(-shft01), df2)\n",
    "fig = plt.gcf()"
   ]
  },
  {
   "cell_type": "markdown",
   "metadata": {},
   "source": [
    "Now we're going to try using a FFT comparison"
   ]
  },
  {
   "cell_type": "code",
   "execution_count": 20,
   "metadata": {},
   "outputs": [
    {
     "ename": "NameError",
     "evalue": "name 'corrfirst' is not defined",
     "output_type": "error",
     "traceback": [
      "\u001b[1;31m---------------------------------------------------------------------------\u001b[0m",
      "\u001b[1;31mNameError\u001b[0m                                 Traceback (most recent call last)",
      "\u001b[1;32m<ipython-input-20-c899c44b6a20>\u001b[0m in \u001b[0;36m<module>\u001b[1;34m\u001b[0m\n\u001b[0;32m      4\u001b[0m \u001b[0mcorrsecond\u001b[0m \u001b[1;33m=\u001b[0m \u001b[0msignal\u001b[0m\u001b[1;33m.\u001b[0m\u001b[0mcorrelate\u001b[0m\u001b[1;33m(\u001b[0m\u001b[0mb\u001b[0m\u001b[1;33m,\u001b[0m\u001b[0ma\u001b[0m\u001b[1;33m)\u001b[0m\u001b[1;33m\u001b[0m\u001b[1;33m\u001b[0m\u001b[0m\n\u001b[0;32m      5\u001b[0m \u001b[0mxcor\u001b[0m \u001b[1;33m=\u001b[0m \u001b[0mnp\u001b[0m\u001b[1;33m.\u001b[0m\u001b[0mcorrelate\u001b[0m\u001b[1;33m(\u001b[0m\u001b[0ma\u001b[0m\u001b[1;33m,\u001b[0m \u001b[0mb\u001b[0m\u001b[1;33m,\u001b[0m \u001b[1;34m\"full\"\u001b[0m\u001b[1;33m)\u001b[0m\u001b[1;33m\u001b[0m\u001b[1;33m\u001b[0m\u001b[0m\n\u001b[1;32m----> 6\u001b[1;33m \u001b[0mnR\u001b[0m \u001b[1;33m=\u001b[0m \u001b[0mmax\u001b[0m\u001b[1;33m(\u001b[0m\u001b[0mcorrfirst\u001b[0m\u001b[1;33m)\u001b[0m\u001b[1;33m\u001b[0m\u001b[1;33m\u001b[0m\u001b[0m\n\u001b[0m\u001b[0;32m      7\u001b[0m \u001b[0mmaxLag\u001b[0m \u001b[1;33m=\u001b[0m \u001b[0mnp\u001b[0m\u001b[1;33m.\u001b[0m\u001b[0margmax\u001b[0m\u001b[1;33m(\u001b[0m\u001b[0mcorrfirst\u001b[0m\u001b[1;33m)\u001b[0m  \u001b[1;31m# I imported numpy as np here\u001b[0m\u001b[1;33m\u001b[0m\u001b[1;33m\u001b[0m\u001b[0m\n\u001b[0;32m      8\u001b[0m \u001b[0mprint\u001b[0m\u001b[1;33m(\u001b[0m\u001b[1;34m\"nR\"\u001b[0m\u001b[1;33m,\u001b[0m \u001b[0mnR\u001b[0m\u001b[1;33m,\u001b[0m \u001b[1;34m\"Lag\"\u001b[0m\u001b[1;33m,\u001b[0m \u001b[0mmaxLag\u001b[0m\u001b[1;33m)\u001b[0m\u001b[1;33m\u001b[0m\u001b[1;33m\u001b[0m\u001b[0m\n",
      "\u001b[1;31mNameError\u001b[0m: name 'corrfirst' is not defined"
     ]
    }
   ],
   "source": [
    "a = np.array(df1.y)\n",
    "b = np.array(-df2.y)\n",
    "orrfirst = signal.correlate(a,b)\n",
    "corrsecond = signal.correlate(b,a)\n",
    "xcor = np.correlate(a, b, \"full\")\n",
    "nR = max(corrfirst)\n",
    "maxLag = np.argmax(corrfirst)  # I imported numpy as np here\n",
    "print(\"nR\", nR, \"Lag\", maxLag)\n",
    "plt.figure()\n",
    "plt.plot(df1.x, df1.y,\n",
    "         df2.x.shift(maxLag), -df2.y, df2.x, -df2.y)\n",
    "fig = plt.gcf()"
   ]
  },
  {
   "cell_type": "code",
   "execution_count": 21,
   "metadata": {},
   "outputs": [
    {
     "name": "stdout",
     "output_type": "stream",
     "text": [
      "0\n",
      "0\n"
     ]
    }
   ],
   "source": [
    "A = fftpack.fft(a)\n",
    "B = fftpack.fft(b)\n",
    "Ar = -A.conjugate()\n",
    "Br = -B.conjugate()\n",
    "first = np.argmax(np.abs(fftpack.ifft(Ar*B)))\n",
    "second = np.argmax(np.abs(fftpack.ifft(A*Br)))\n",
    "print (first)\n",
    "print (second)"
   ]
  },
  {
   "cell_type": "markdown",
   "metadata": {},
   "source": [
    "Now we'll do it without the FFT"
   ]
  },
  {
   "cell_type": "code",
   "execution_count": null,
   "metadata": {},
   "outputs": [],
   "source": []
  },
  {
   "cell_type": "code",
   "execution_count": 22,
   "metadata": {
    "scrolled": true
   },
   "outputs": [
    {
     "name": "stdout",
     "output_type": "stream",
     "text": [
      "nR 88 Lag 16\n",
      "b1=    0\n",
      "0  0\n",
      "1  0\n",
      "2  0\n",
      "3  0\n",
      "4  0\n",
      "b2=     0\n",
      "5   1\n",
      "6   2\n",
      "7   3\n",
      "8   4\n",
      "9   3\n",
      "10  2\n",
      "11  1\n",
      "12  0\n",
      "13  1\n",
      "14  2\n",
      "15  3\n",
      "16  4\n",
      "17  3\n",
      "18  2\n",
      "19  1\n",
      "20  0\n",
      "append     0\n",
      "5   1\n",
      "6   2\n",
      "7   3\n",
      "8   4\n",
      "9   3\n",
      "10  2\n",
      "11  1\n",
      "12  0\n",
      "13  1\n",
      "14  2\n",
      "15  3\n",
      "16  4\n",
      "17  3\n",
      "18  2\n",
      "19  1\n",
      "20  0\n",
      "0   0\n",
      "1   0\n",
      "2   0\n",
      "3   0\n",
      "4   0\n",
      "b2 Rotated\n",
      "    0\n",
      "0   1\n",
      "1   2\n",
      "2   3\n",
      "3   4\n",
      "4   3\n",
      "5   2\n",
      "6   1\n",
      "7   0\n",
      "8   1\n",
      "9   2\n",
      "10  3\n",
      "11  4\n",
      "12  3\n",
      "13  2\n",
      "14  1\n",
      "15  0\n",
      "16  0\n",
      "17  0\n",
      "18  0\n",
      "19  0\n",
      "20  0\n"
     ]
    }
   ],
   "source": [
    "a = np.array([0, 1, 2, 3, 4, 3, 2, 1, 0, 1, 2, 3, 4, 3, 2, 1, 0, 0, 0, 0, 0])\n",
    "b = np.array([0, 0, 0, 0, 0, 1, 2, 3, 4, 3, 2, 1, 0, 1, 2, 3, 4, 3, 2, 1, 0])\n",
    "corrfirst = signal.correlate(a,b)\n",
    "corrsecond = signal.correlate(b,a)\n",
    "xcor = np.correlate(a, b, \"full\")\n",
    "nR = max(corrfirst)\n",
    "maxLag = np.argmax(corrfirst)  # I imported numpy as np here\n",
    "print(\"nR\", nR, \"Lag\", maxLag)\n",
    "\n",
    "first = np.argmax(signal.correlate(a,b))\n",
    "second = np.argmax(signal.correlate(b,a))\n",
    "nR = max(xcor)\n",
    "maxLag = np.argmax(xcor)  # I imported numpy as np here\n",
    "\n",
    "# testing rotation\n",
    "a = pd.DataFrame(a)\n",
    "b = pd.DataFrame(b)\n",
    "b1 = b[0:5]\n",
    "print(\"b1=\", b1)\n",
    "b2 = b[5:]\n",
    "print(\"b2=\", b2)\n",
    "b3 = b2.append(b1)\n",
    "print(\"append\", b3)\n",
    "b3.reset_index(drop=True, inplace = True)\n",
    "print (\"b2 Rotated\")\n",
    "print(b3)"
   ]
  },
  {
   "cell_type": "code",
   "execution_count": 23,
   "metadata": {},
   "outputs": [
    {
     "data": {
      "text/plain": [
       "[<matplotlib.lines.Line2D at 0x11b38980d48>]"
      ]
     },
     "execution_count": 23,
     "metadata": {},
     "output_type": "execute_result"
    },
    {
     "data": {
      "image/png": "[encoded data removed]",
      "text/plain": [
       "<Figure size 432x288 with 1 Axes>"
      ]
     },
     "metadata": {
      "needs_background": "light"
     },
     "output_type": "display_data"
    }
   ],
   "source": [
    "plt.figure()\n",
    "plt.plot(a, linewidth=3, color = \"green\")\n",
    "plt.plot(b, linewidth=3, color = \"blue\")\n",
    "plt.plot(b3, linestyle='dashed', color = \"red\")\n",
    "#plt.plot(a.shift(maxLag))"
   ]
  },
  {
   "cell_type": "code",
   "execution_count": null,
   "metadata": {},
   "outputs": [],
   "source": []
  },
  {
   "cell_type": "code",
   "execution_count": null,
   "metadata": {},
   "outputs": [],
   "source": []
  },
  {
   "cell_type": "code",
   "execution_count": 24,
   "metadata": {},
   "outputs": [
    {
     "name": "stdout",
     "output_type": "stream",
     "text": [
      "16\n",
      "24\n",
      "31\n",
      "45\n"
     ]
    },
    {
     "data": {
      "text/plain": [
       "<Figure size 432x288 with 0 Axes>"
      ]
     },
     "metadata": {},
     "output_type": "display_data"
    }
   ],
   "source": [
    "fig = plt.gcf()\n",
    "print(first)\n",
    "print(second)\n",
    "df1 = pd.read_csv(r'real2.csv')\n",
    "df2 = pd.read_csv(r'sim2.csv')\n",
    "a = np.array(df1)\n",
    "b = np.array(-df2)\n",
    "first = np.argmax(signal.correlate(a,b))\n",
    "second = np.argmax(signal.correlate(b,a))\n",
    "print(first)\n",
    "print(second)"
   ]
  },
  {
   "cell_type": "code",
   "execution_count": 25,
   "metadata": {},
   "outputs": [
    {
     "name": "stdout",
     "output_type": "stream",
     "text": [
      "12\n"
     ]
    }
   ],
   "source": [
    "af = scipy.fft.fft(a)\n",
    "bf = scipy.fft.fft(b)\n",
    "c = scipy.fft.ifft(af * np.conj(bf))\n",
    "\n",
    "time_shift = np.argmax(abs(c))\n",
    "print(time_shift)"
   ]
  },
  {
   "cell_type": "markdown",
   "metadata": {},
   "source": [
    "The following is an effort to code the Theil Inefficiency Coefficient (TIC) from scratch\n",
    "\n",
    "In math terms, it looks like this for datapoints n:\n",
    "\n",
    "TIC = sqrt((1/n * sum((real(n) - sim(n)))^2)/((1/n*sqrt(real(n)^2) + 1/n*sqrt(sim(n)^2))"
   ]
  },
  {
   "cell_type": "code",
   "execution_count": 120,
   "metadata": {},
   "outputs": [],
   "source": [
    "real = np.array(df1)\n",
    "sim = np.array(df2)\n",
    "\n",
    "\n",
    "sum1 = 0\n",
    "sum2 = 0\n",
    "sum3 = 0\n",
    "\n",
    "for n in np.nditer(real):\n",
    "    sum1 = sum1 + (real[int(n-1)][1]-sim[int(n-1)][1])**2\n",
    "    "
   ]
  },
  {
   "cell_type": "code",
   "execution_count": null,
   "metadata": {},
   "outputs": [],
   "source": []
  }
 ],
 "metadata": {
  "kernelspec": {
   "display_name": "Python 3",
   "language": "python",
   "name": "python3"
  },
  "language_info": {
   "codemirror_mode": {
    "name": "ipython",
    "version": 3
   },
   "file_extension": ".py",
   "mimetype": "text/x-python",
   "name": "python",
   "nbconvert_exporter": "python",
   "pygments_lexer": "ipython3",
   "version": "3.8.3"
  }
 },
 "nbformat": 4,
 "nbformat_minor": 4
}
